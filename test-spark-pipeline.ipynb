{
 "cells": [
  {
   "cell_type": "code",
   "execution_count": null,
   "id": "539d419a",
   "metadata": {},
   "outputs": [],
   "source": [
    "from pyspark.sql import SparkSession\n",
    "from pyspark.sql.functions import count, explode,col, when, lit, concat_ws, udf, from_json, struct, to_json,window,sum as agg_sum ,count , aggregate,to_date ,dayofweek,hour , minute ,concat\n",
    "import pandas as pd\n",
    "from pyspark.sql.pandas.functions import pandas_udf\n",
    "from pyspark.sql.functions import collect_list, col, when, lit, concat_ws, udf, from_json, struct, to_json,window,sum as agg_sum ,count , aggregate\n",
    "from pyspark.sql.pandas.functions import pandas_udf, PandasUDFType\n",
    "from abc import ABC, abstractmethod, abstractclassmethod\n",
    "from pyspark.sql import DataFrame, SparkSession\n",
    "from pyspark.sql.functions import col, when, lit, concat_ws, udf, from_json, struct, to_json, window, collect_list ,avg\n",
    "from pyspark.sql.types import StructType, StructField, StringType, DateType, FloatType\n",
    "from pipeline.points import TEHRAN_POINTS ,Point\n",
    "from pipeline.core import TehranPipeline\n",
    "\n",
    "from pyspark.sql.types import StructType, StructField, StringType, DateType, FloatType ,ArrayType ,MapType ,IntegerType ,Union\n",
    "spark = SparkSession.builder.getOrCreate()\n"
   ]
  },
  {
   "cell_type": "code",
   "execution_count": 12,
   "id": "13cc9050",
   "metadata": {},
   "outputs": [
    {
     "name": "stdout",
     "output_type": "stream",
     "text": [
      "+--------+---------+---------+--------------------+\n",
      "|driverId|      lat|     long|                time|\n",
      "+--------+---------+---------+--------------------+\n",
      "|       1|35.703686|51.385687|2020-10-20 12:54:...|\n",
      "|       1|35.703686|51.385687|2020-10-20 12:54:...|\n",
      "|       1|35.703686|51.385687|2020-10-20 12:54:...|\n",
      "|       1|35.703686|51.385687|2020-10-20 12:54:...|\n",
      "|       1|35.686806|51.435012|2020-10-20 12:54:...|\n",
      "|       1|35.719774|51.360006|2020-10-20 12:54:...|\n",
      "|       1|35.716914|51.438037|2020-10-20 12:54:...|\n",
      "|       1|35.706258|51.371695|2020-10-20 12:54:...|\n",
      "|       1|35.693407| 51.42686|2020-10-20 12:54:...|\n",
      "|       1|35.668782|51.425666|2020-10-20 12:54:...|\n",
      "|       1|35.715623|51.376047|2020-10-20 12:54:...|\n",
      "|     172|35.671891|51.458438|2020-10-20 11:54:...|\n",
      "|     172|35.728834|51.375421|2020-10-20 11:54:...|\n",
      "|     113|35.721141|51.390772|2020-10-20 11:54:...|\n",
      "|     173|35.671891|51.458438|2020-10-20 14:54:...|\n",
      "|     173|35.728834|51.375421|2020-10-20 14:54:...|\n",
      "|     173|35.728834|51.375421|2020-10-20 14:54:...|\n",
      "+--------+---------+---------+--------------------+\n",
      "\n"
     ]
    }
   ],
   "source": [
    "df = spark.read.csv(\"./storage/mini_sample_data2.txt\",header=True)\n",
    "df.show()"
   ]
  },
  {
   "cell_type": "code",
   "execution_count": 6,
   "id": "e133ab50",
   "metadata": {},
   "outputs": [],
   "source": [
    "tehran_pipeline=TehranPipeline()"
   ]
  },
  {
   "cell_type": "code",
   "execution_count": 11,
   "id": "db006b16",
   "metadata": {},
   "outputs": [
    {
     "name": "stderr",
     "output_type": "stream",
     "text": [
      "\r",
      "[Stage 16:>                                                         (0 + 1) / 1]\r"
     ]
    },
    {
     "name": "stdout",
     "output_type": "stream",
     "text": [
      "+--------+--------------+----------+----------+----+\n",
      "|driverId|dayOfWeek_Hour|        p1|        p2|edge|\n",
      "+--------+--------------+----------+----------+----+\n",
      "|     172|          3_11|  POINT_90|POINT_5954|   1|\n",
      "|       1|          3_12|POINT_2459| POINT_180|   4|\n",
      "|       1|          3_12| POINT_180|POINT_4648|   1|\n",
      "|       1|          3_12|POINT_4648|POINT_4281|   1|\n",
      "|       1|          3_12|POINT_4281|POINT_2853|   1|\n",
      "|       1|          3_12|POINT_2853|POINT_1076|   1|\n",
      "|       1|          3_12|POINT_1076|  POINT_76|   1|\n",
      "|       1|          3_12|  POINT_76|POINT_4155|   1|\n",
      "+--------+--------------+----------+----------+----+\n",
      "\n"
     ]
    },
    {
     "name": "stderr",
     "output_type": "stream",
     "text": [
      "\r",
      "                                                                                \r"
     ]
    }
   ],
   "source": [
    "tehran_pipeline.transform(df).show()"
   ]
  },
  {
   "cell_type": "code",
   "execution_count": null,
   "id": "4b91bc81",
   "metadata": {},
   "outputs": [],
   "source": []
  },
  {
   "cell_type": "code",
   "execution_count": null,
   "id": "afd6493e",
   "metadata": {},
   "outputs": [],
   "source": []
  }
 ],
 "metadata": {
  "kernelspec": {
   "display_name": "Python 3 (ipykernel)",
   "language": "python",
   "name": "python3"
  },
  "language_info": {
   "codemirror_mode": {
    "name": "ipython",
    "version": 3
   },
   "file_extension": ".py",
   "mimetype": "text/x-python",
   "name": "python",
   "nbconvert_exporter": "python",
   "pygments_lexer": "ipython3",
   "version": "3.8.9"
  }
 },
 "nbformat": 4,
 "nbformat_minor": 5
}
